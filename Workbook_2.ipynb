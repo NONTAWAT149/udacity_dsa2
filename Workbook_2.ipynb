{
 "cells": [
  {
   "cell_type": "markdown",
   "metadata": {},
   "source": [
    "### Problem 1: LRU Cache"
   ]
  },
  {
   "cell_type": "markdown",
   "metadata": {},
   "source": [
    "1.Code Design: <br>\n",
    "\n",
    "LRU is designed to get and store the recent value with first priority. <br>\n",
    "Python Dictionary (from Python 3.10 onward) stores value in order of recent action. So, Dictionary is used to design storage of LRU. <br>\n",
    "    \n",
    "2.Efficiancy: <br>\n",
    "\n",
    "Time complexity: <br>\n",
    "(1) To get value is O(1) <br>\n",
    "(2) To set value is O(1) <br>\n",
    "\n",
    "Space complexity: <br>\n",
    "depend on \"capacity\", which is defined by user. <br>"
   ]
  },
  {
   "cell_type": "code",
   "execution_count": 1,
   "metadata": {},
   "outputs": [],
   "source": [
    "class LRU_Cache(object):\n",
    "    \"\"\"\n",
    "    LRU_Cache data structure\n",
    "    Use dictionary instead of double linked lists\n",
    "    \"\"\"\n",
    "\n",
    "    def __init__(self, capacity: int):\n",
    "        \"\"\"Initialize class variables\"\"\"\n",
    "        \n",
    "        self.storage = {}\n",
    "        self.capacity = capacity\n",
    "        \n",
    "\n",
    "    def get(self, key):\n",
    "        \"\"\"Retrieve item from provided key. \n",
    "        Return -1 if nonexistent.\"\"\"\n",
    "        \n",
    "        # Return -1 if no key found\n",
    "        # Cache miss\n",
    "        if key not in self.storage:\n",
    "            return -1\n",
    "        \n",
    "        # Get value from key\n",
    "        value = self.storage.pop(key)\n",
    "        \n",
    "        # Move the recent key to the end of storage\n",
    "        # Cache hit\n",
    "        self.storage[key] = value\n",
    "        \n",
    "        return value\n",
    "    \n",
    "\n",
    "    def set(self, key, value):\n",
    "        \"\"\"Set the value if the key is not present in the cache. \n",
    "        If the cache is at capacity remove the oldest item.\"\"\"\n",
    "        \n",
    "        if key in self.storage:\n",
    "            \n",
    "            # Get recent key\n",
    "            self.storage.pop(key)\n",
    "        else:\n",
    "            \n",
    "            # Check if capacity is full\n",
    "            if len(self.storage) == self.capacity:\n",
    "                \n",
    "                # Delete the first element (the least recently used) fron storage\n",
    "                del self.storage[list(self.storage.keys())[0]]\n",
    "        \n",
    "        # Move the recent key to the last position of storage\n",
    "        # the most recently used item\n",
    "        self.storage[key] = value\n",
    "            "
   ]
  },
  {
   "cell_type": "code",
   "execution_count": 2,
   "metadata": {},
   "outputs": [],
   "source": [
    "our_cache = LRU_Cache(5)\n",
    "\n",
    "our_cache.set(1, 1);\n",
    "our_cache.set(2, 2);\n",
    "our_cache.set(3, 3);\n",
    "our_cache.set(4, 4);"
   ]
  },
  {
   "cell_type": "code",
   "execution_count": 3,
   "metadata": {},
   "outputs": [
    {
     "data": {
      "text/plain": [
       "1"
      ]
     },
     "execution_count": 3,
     "metadata": {},
     "output_type": "execute_result"
    }
   ],
   "source": [
    "our_cache.get(1) "
   ]
  },
  {
   "cell_type": "code",
   "execution_count": 4,
   "metadata": {},
   "outputs": [
    {
     "data": {
      "text/plain": [
       "2"
      ]
     },
     "execution_count": 4,
     "metadata": {},
     "output_type": "execute_result"
    }
   ],
   "source": [
    "our_cache.get(2) "
   ]
  },
  {
   "cell_type": "code",
   "execution_count": 5,
   "metadata": {},
   "outputs": [
    {
     "data": {
      "text/plain": [
       "-1"
      ]
     },
     "execution_count": 5,
     "metadata": {},
     "output_type": "execute_result"
    }
   ],
   "source": [
    "our_cache.get(9)"
   ]
  },
  {
   "cell_type": "code",
   "execution_count": 6,
   "metadata": {},
   "outputs": [],
   "source": [
    "our_cache.set(5, 5) \n",
    "our_cache.set(6, 6)"
   ]
  },
  {
   "cell_type": "code",
   "execution_count": 7,
   "metadata": {},
   "outputs": [
    {
     "data": {
      "text/plain": [
       "-1"
      ]
     },
     "execution_count": 7,
     "metadata": {},
     "output_type": "execute_result"
    }
   ],
   "source": [
    "our_cache.get(3)"
   ]
  },
  {
   "cell_type": "code",
   "execution_count": 8,
   "metadata": {},
   "outputs": [],
   "source": [
    "## Add your own test cases: include at least three test cases\n",
    "## and two of them must include edge cases, such as null, empty or very large values"
   ]
  },
  {
   "cell_type": "code",
   "execution_count": 9,
   "metadata": {},
   "outputs": [
    {
     "data": {
      "text/plain": [
       "{4: 4, 1: 1, 2: 2, 5: 5, 6: 6}"
      ]
     },
     "execution_count": 9,
     "metadata": {},
     "output_type": "execute_result"
    }
   ],
   "source": [
    "our_cache.storage"
   ]
  },
  {
   "cell_type": "code",
   "execution_count": 10,
   "metadata": {},
   "outputs": [
    {
     "data": {
      "text/plain": [
       "-1"
      ]
     },
     "execution_count": 10,
     "metadata": {},
     "output_type": "execute_result"
    }
   ],
   "source": [
    "## Test Case 1\n",
    "our_cache.get(-2)"
   ]
  },
  {
   "cell_type": "code",
   "execution_count": 11,
   "metadata": {},
   "outputs": [
    {
     "data": {
      "text/plain": [
       "{1: 1, 2: 2, 5: 5, 6: 6, -1: 3}"
      ]
     },
     "execution_count": 11,
     "metadata": {},
     "output_type": "execute_result"
    }
   ],
   "source": [
    "## Test Case 2\n",
    "our_cache.set(-1, 3) \n",
    "our_cache.storage"
   ]
  },
  {
   "cell_type": "code",
   "execution_count": 12,
   "metadata": {},
   "outputs": [
    {
     "data": {
      "text/plain": [
       "{2: 2, 5: 5, 6: 6, -1: 3, 100: 1000}"
      ]
     },
     "execution_count": 12,
     "metadata": {},
     "output_type": "execute_result"
    }
   ],
   "source": [
    "## Test Case 3\n",
    "our_cache.set(100, 1000) \n",
    "our_cache.storage"
   ]
  },
  {
   "cell_type": "markdown",
   "metadata": {},
   "source": [
    "### Problem 2: File Recursion"
   ]
  },
  {
   "cell_type": "markdown",
   "metadata": {},
   "source": [
    "1.Code Design: <br>\n",
    "\n",
    "Recusion is used to implemented find_file function because it has capability to continue process until reaching the edge without knowing the limitation at the beginning stage. <br>\n",
    "\n",
    "    \n",
    "2.Efficiancy: <br>\n",
    "\n",
    "Time complexity: O(n) because it depends on number of file and level of directory to go through <br>\n",
    "Space complexity: depend on number of files in the considered directory <br>"
   ]
  },
  {
   "cell_type": "code",
   "execution_count": 13,
   "metadata": {},
   "outputs": [],
   "source": [
    "#!unzip testdir.zip"
   ]
  },
  {
   "cell_type": "code",
   "execution_count": 14,
   "metadata": {},
   "outputs": [],
   "source": [
    "import os"
   ]
  },
  {
   "cell_type": "code",
   "execution_count": 15,
   "metadata": {},
   "outputs": [],
   "source": [
    "def find_file(file_type, path):\n",
    "    \"\"\"\n",
    "    Find all files beneath path with file name suffix.\n",
    "\n",
    "    Note that a path may contain further subdirectories\n",
    "    and those subdirectories may also contain further subdirectories.\n",
    "\n",
    "    There are no limit to the depth of the subdirectories can be.\n",
    "\n",
    "    Args:\n",
    "      file_type(str): suffix if the file name to be found\n",
    "      path(str): path of the file system\n",
    "\n",
    "    Returns:\n",
    "       a list of paths\n",
    "    \"\"\"\n",
    "    \n",
    "    # Collect all elements in path\n",
    "    element_list = os.listdir(path)\n",
    "    \n",
    "    for element in element_list:\n",
    "        \n",
    "        # Add path if expected file is found\n",
    "        if file_type in element:\n",
    "            #print(file)\n",
    "            file.append(path + '/' + element)\n",
    "        \n",
    "        # Go to sub directory if folder is found\n",
    "        if '.' not in element:\n",
    "            #print('dir: ', element)\n",
    "            find_file(file_type, path + '/' + element)\n",
    "\n",
    "    return file"
   ]
  },
  {
   "cell_type": "code",
   "execution_count": 16,
   "metadata": {},
   "outputs": [
    {
     "data": {
      "text/plain": [
       "['./testdir/subdir5/a.h',\n",
       " './testdir/t1.h',\n",
       " './testdir/subdir3/subsubdir1/b.h',\n",
       " './testdir/subdir1/a.h']"
      ]
     },
     "execution_count": 16,
     "metadata": {},
     "output_type": "execute_result"
    }
   ],
   "source": [
    "file = []\n",
    "file = find_file('.h', '.')\n",
    "file"
   ]
  },
  {
   "cell_type": "code",
   "execution_count": 17,
   "metadata": {},
   "outputs": [],
   "source": [
    "## Add your own test cases: include at least three test cases\n",
    "## and two of them must include edge cases, such as null, empty or very large values"
   ]
  },
  {
   "cell_type": "code",
   "execution_count": 18,
   "metadata": {},
   "outputs": [
    {
     "data": {
      "text/plain": [
       "['./testdir/subdir5/a.c',\n",
       " './testdir/subdir3/subsubdir1/b.c',\n",
       " './testdir/t1.c',\n",
       " './testdir/subdir1/a.c']"
      ]
     },
     "execution_count": 18,
     "metadata": {},
     "output_type": "execute_result"
    }
   ],
   "source": [
    "## Test Case 1\n",
    "file = []\n",
    "file = find_file('.c', '.')\n",
    "file"
   ]
  },
  {
   "cell_type": "code",
   "execution_count": 19,
   "metadata": {},
   "outputs": [
    {
     "data": {
      "text/plain": [
       "[]"
      ]
     },
     "execution_count": 19,
     "metadata": {},
     "output_type": "execute_result"
    }
   ],
   "source": [
    "## Test Case 2\n",
    "file = []\n",
    "file = find_file('.csv', '.')\n",
    "file"
   ]
  },
  {
   "cell_type": "code",
   "execution_count": 20,
   "metadata": {},
   "outputs": [
    {
     "data": {
      "text/plain": [
       "['./testdir/subdir3/subsubdir1/b.h']"
      ]
     },
     "execution_count": 20,
     "metadata": {},
     "output_type": "execute_result"
    }
   ],
   "source": [
    "## Test Case 3\n",
    "file = []\n",
    "file = find_file('.h', './testdir/subdir3')\n",
    "file"
   ]
  },
  {
   "cell_type": "markdown",
   "metadata": {},
   "source": [
    "### Problem 3: Huffman Coding"
   ]
  },
  {
   "cell_type": "markdown",
   "metadata": {},
   "source": [
    "1.Code Design: <br>\n",
    "\n",
    "Node with tree structure is used to store information of Huffman Coding, which it has ability to record key (string), value (frequency). The parent node of child is summation of their child frequency. It can also encode value of the edge of child.\n",
    "    \n",
    "2.Efficiancy: <br>\n",
    "\n",
    "Time complexity: <br>\n",
    "(1) Methods of Node and Tree is O(1). <br>\n",
    "(2) find_frequency() is O(n) from collections.Counter(). <br>\n",
    "(3) insert_node() is O(n) from for-loop to go through all node list. <br>\n",
    "(4) build_tree() is O(n) from while-loop to go through all node list. <br>\n",
    "(5) tree_encoder() is O(n) from recusion. <br>\n",
    "(6) decoder() is O(n) from recusion. <br>\n",
    "(7) huffman_decoding() is O(n) from while-loop. <br>\n",
    "\n",
    "Space complexity: <br>\n",
    "depend on number of string of text. <br>"
   ]
  },
  {
   "cell_type": "code",
   "execution_count": 21,
   "metadata": {},
   "outputs": [],
   "source": [
    "import sys\n",
    "import collections"
   ]
  },
  {
   "cell_type": "code",
   "execution_count": 22,
   "metadata": {},
   "outputs": [],
   "source": [
    "class Node:\n",
    "\n",
    "    def __init__(self, key=None, value=None):\n",
    "        self.key = key      # string\n",
    "        self.value = value  # frequency value\n",
    "        self.left = None\n",
    "        self.right = None\n",
    "\n",
    "    def get_value(self):\n",
    "        return self.value\n",
    "\n",
    "    def set_value(self, value):\n",
    "        self.value = value\n",
    "\n",
    "    def set_left_child(self, node):\n",
    "        self.left = node\n",
    "\n",
    "    def set_right_child(self, node):\n",
    "        self.right = node\n",
    "\n",
    "    def get_left_child(self):\n",
    "        return self.left\n",
    "\n",
    "    def get_right_child(self, node):\n",
    "        return self.right\n",
    "\n",
    "    def has_left_child(self):\n",
    "        return self.left is not None\n",
    "\n",
    "    def has_right_child(self):\n",
    "        return self.right is not None"
   ]
  },
  {
   "cell_type": "code",
   "execution_count": 23,
   "metadata": {},
   "outputs": [],
   "source": [
    "class Tree():\n",
    "\n",
    "    def __init__(self, root=None):\n",
    "        self.root = root\n",
    "\n",
    "    def get_root(self):\n",
    "        return self.root"
   ]
  },
  {
   "cell_type": "code",
   "execution_count": 24,
   "metadata": {},
   "outputs": [],
   "source": [
    "def find_frequency(text):\n",
    "\n",
    "    # Find frequency of each character\n",
    "    freq = dict(collections.Counter(text))\n",
    "\n",
    "    # Return character frequency sorted by frequency from low to high\n",
    "    return sorted(freq.items(), key=lambda x:x[1])"
   ]
  },
  {
   "cell_type": "code",
   "execution_count": 25,
   "metadata": {},
   "outputs": [],
   "source": [
    "def insert_node(parent_node, node_list):\n",
    "\n",
    "    for index, node in enumerate(node_list):\n",
    "\n",
    "        # check to add parent mode to node_list\n",
    "        if parent_node.value < node.value:\n",
    "            node_list.insert(index, parent_node)\n",
    "            break\n",
    "\n",
    "        # check to add parent mode to node_list at last\n",
    "        if index == (len(node_list) - 1):\n",
    "            node_list.append(parent_node)\n",
    "            break"
   ]
  },
  {
   "cell_type": "code",
   "execution_count": 26,
   "metadata": {},
   "outputs": [],
   "source": [
    "def build_tree(node_list):\n",
    "    tree = None\n",
    "\n",
    "    # Loop to build tree\n",
    "    while len(node_list) > 1:\n",
    "\n",
    "        # Select the first two smallest node\n",
    "        first_node = node_list.pop(0)\n",
    "        second_node = node_list.pop(0)\n",
    "\n",
    "        # Create parent and child nodes\n",
    "        parent_node = Node()\n",
    "        parent_node.set_value(first_node.value + second_node.value)\n",
    "        parent_node.set_left_child(first_node)\n",
    "        parent_node.set_right_child(second_node)\n",
    "\n",
    "        # Add and sort node in node list\n",
    "        insert_node(parent_node, node_list)\n",
    "\n",
    "        # Build tree\n",
    "        if len(node_list) == 0:\n",
    "            tree = Tree(parent_node)\n",
    "\n",
    "    return tree\n"
   ]
  },
  {
   "cell_type": "code",
   "execution_count": 27,
   "metadata": {},
   "outputs": [],
   "source": [
    "def tree_encoder(tree_node, encoder, tree_encoder_dict):\n",
    "\n",
    "    # Check node if it is edge of tree\n",
    "    if (tree_node.left is None) and (tree_node.right is None):\n",
    "\n",
    "        # Encode node with encoder (left = 0, right = 1)\n",
    "        tree_encoder_dict[tree_node.key] = encoder\n",
    "\n",
    "    # if it is not edge of tree, go further until reach of tree edge\n",
    "    else:\n",
    "        if tree_node.left is not None:\n",
    "            tree_encoder(tree_node.left, encoder + \"0\", tree_encoder_dict)\n",
    "\n",
    "        if tree_node.right is not None:\n",
    "            tree_encoder(tree_node.right, encoder + \"1\", tree_encoder_dict)\n",
    "\n",
    "    return tree_encoder_dict"
   ]
  },
  {
   "cell_type": "code",
   "execution_count": 28,
   "metadata": {},
   "outputs": [],
   "source": [
    "def huffman_encoding(data):\n",
    "\n",
    "    if not data:\n",
    "        # To prevent error if receive none data\n",
    "        encoders = data\n",
    "        tree = None\n",
    "\n",
    "    else:\n",
    "        # Calculate frequency of characters\n",
    "        freq_data = find_frequency(data)\n",
    "\n",
    "        # Map character and frequency to node\n",
    "        node_list = []\n",
    "        for item in freq_data:\n",
    "            node_list.append(Node(item[0], item[1]))\n",
    "\n",
    "        # Generate tree\n",
    "        tree = build_tree(node_list)\n",
    "\n",
    "        # Tree encodering (assign 0 or 1 to node)\n",
    "        tree_encoder_dict = dict()\n",
    "        default_encoder = \"\"\n",
    "        tree_encoder_dict = tree_encoder(tree.root, default_encoder, tree_encoder_dict)\n",
    "\n",
    "        # Tree encodering - combine encoders\n",
    "        encoders = str()\n",
    "        for character in data:\n",
    "            encoders += tree_encoder_dict[character]\n",
    "\n",
    "    return encoders, tree"
   ]
  },
  {
   "cell_type": "code",
   "execution_count": 29,
   "metadata": {},
   "outputs": [],
   "source": [
    "def decoder(encoded_data, tree, index, decoded_data):\n",
    "\n",
    "    # Decode if it is at the edge of tree\n",
    "    if (tree.left is None) and (tree.right is None):\n",
    "        decoded_data += tree.key\n",
    "        return index, decoded_data\n",
    "\n",
    "    # Continue until reach the edge of tree on left side\n",
    "    elif encoded_data[index] == \"0\":\n",
    "        return decoder(encoded_data, tree.left, index + 1, decoded_data)\n",
    "\n",
    "    # Continue until reach the edge of tree on right side\n",
    "    else:\n",
    "        return decoder(encoded_data, tree.right, index + 1, decoded_data)"
   ]
  },
  {
   "cell_type": "code",
   "execution_count": 30,
   "metadata": {},
   "outputs": [],
   "source": [
    "def huffman_decoding(encoders, tree):\n",
    "\n",
    "    if encoders is None:\n",
    "        # To prevent error if receive none data\n",
    "        decoded_data = None\n",
    "        \n",
    "    else:\n",
    "        # Initialise values\n",
    "        index = 0\n",
    "        decoded_data = \"\"\n",
    "\n",
    "        # Loop to decode\n",
    "        while(index <= len(encoders) - 1):\n",
    "            index, decoded_data = decoder(encoders, tree.root, index, decoded_data)\n",
    "\n",
    "    return decoded_data"
   ]
  },
  {
   "cell_type": "code",
   "execution_count": 31,
   "metadata": {},
   "outputs": [
    {
     "name": "stdout",
     "output_type": "stream",
     "text": [
      "The size of the data is: 69\n",
      "\n",
      "The content of the data is: The bird is the word\n",
      "\n",
      "The size of the encoded data is: 36\n",
      "\n",
      "The content of the encoded data is: 0110111011111100111000001010110000100011010011110111111010101011001010\n",
      "\n",
      "The size of the decoded data is: 69\n",
      "\n",
      "The content of the encoded data is: The bird is the word\n",
      "\n"
     ]
    }
   ],
   "source": [
    "if __name__ == \"__main__\":\n",
    "    codes = {}\n",
    "\n",
    "    a_great_sentence = \"The bird is the word\"\n",
    "\n",
    "    print (\"The size of the data is: {}\\n\".format(sys.getsizeof(a_great_sentence)))\n",
    "    print (\"The content of the data is: {}\\n\".format(a_great_sentence))\n",
    "\n",
    "    encoded_data, tree = huffman_encoding(a_great_sentence)\n",
    "\n",
    "    print (\"The size of the encoded data is: {}\\n\".format(sys.getsizeof(int(encoded_data, base=2))))\n",
    "    print (\"The content of the encoded data is: {}\\n\".format(encoded_data))\n",
    "\n",
    "    decoded_data = huffman_decoding(encoded_data, tree)\n",
    "\n",
    "    print (\"The size of the decoded data is: {}\\n\".format(sys.getsizeof(decoded_data)))\n",
    "    print (\"The content of the encoded data is: {}\\n\".format(decoded_data))\n"
   ]
  },
  {
   "cell_type": "code",
   "execution_count": 32,
   "metadata": {},
   "outputs": [
    {
     "name": "stdout",
     "output_type": "stream",
     "text": [
      "The size of the data is: 84\n",
      "\n",
      "The content of the data is: GenerativeAI is coming, be prepared\n",
      "\n",
      "The size of the encoded data is: 44\n",
      "\n",
      "The content of the encoded data is: 0110011000011101110010001101111101110110011111000000111111000100110010100111010011110001101011011000110111110001010111101100101010011101100000\n",
      "\n",
      "The size of the decoded data is: 84\n",
      "\n",
      "The content of the encoded data is: GenerativeAI is coming, be prepared\n",
      "\n"
     ]
    }
   ],
   "source": [
    "# Test 1\n",
    "a_great_sentence = \"GenerativeAI is coming, be prepared\"\n",
    "\n",
    "print (\"The size of the data is: {}\\n\".format(sys.getsizeof(a_great_sentence)))\n",
    "print (\"The content of the data is: {}\\n\".format(a_great_sentence))\n",
    "\n",
    "encoded_data, tree = huffman_encoding(a_great_sentence)\n",
    "\n",
    "print (\"The size of the encoded data is: {}\\n\".format(sys.getsizeof(int(encoded_data, base=2))))\n",
    "print (\"The content of the encoded data is: {}\\n\".format(encoded_data))\n",
    "\n",
    "decoded_data = huffman_decoding(encoded_data, tree)\n",
    "\n",
    "print (\"The size of the decoded data is: {}\\n\".format(sys.getsizeof(decoded_data)))\n",
    "print (\"The content of the encoded data is: {}\\n\".format(decoded_data))"
   ]
  },
  {
   "cell_type": "code",
   "execution_count": 33,
   "metadata": {},
   "outputs": [
    {
     "name": "stdout",
     "output_type": "stream",
     "text": [
      "The size of the data is: 16\n",
      "\n",
      "The content of the data is: None\n",
      "\n",
      "The size of the encoded data is: None\n",
      "\n",
      "The content of the encoded data is: None\n",
      "\n",
      "The size of the decoded data is: 16\n",
      "\n",
      "The content of the encoded data is: None\n",
      "\n"
     ]
    }
   ],
   "source": [
    "# Test 2\n",
    "a_great_sentence = None\n",
    "\n",
    "print (\"The size of the data is: {}\\n\".format(sys.getsizeof(a_great_sentence)))\n",
    "print (\"The content of the data is: {}\\n\".format(a_great_sentence))\n",
    "\n",
    "encoded_data, tree = huffman_encoding(a_great_sentence)\n",
    "\n",
    "print (\"The size of the encoded data is: {}\\n\".format(encoded_data))\n",
    "print (\"The content of the encoded data is: {}\\n\".format(encoded_data))\n",
    "\n",
    "decoded_data = huffman_decoding(encoded_data, tree)\n",
    "\n",
    "print (\"The size of the decoded data is: {}\\n\".format(sys.getsizeof(decoded_data)))\n",
    "print (\"The content of the encoded data is: {}\\n\".format(decoded_data))"
   ]
  },
  {
   "cell_type": "code",
   "execution_count": 34,
   "metadata": {},
   "outputs": [
    {
     "name": "stdout",
     "output_type": "stream",
     "text": [
      "The size of the data is: 49\n",
      "\n",
      "The content of the data is: \n",
      "\n",
      "The size of the encoded data is: \n",
      "\n",
      "The content of the encoded data is: \n",
      "\n",
      "The size of the decoded data is: 49\n",
      "\n",
      "The content of the encoded data is: \n",
      "\n"
     ]
    }
   ],
   "source": [
    "# Test 3\n",
    "a_great_sentence = \"\"\n",
    "\n",
    "print (\"The size of the data is: {}\\n\".format(sys.getsizeof(a_great_sentence)))\n",
    "print (\"The content of the data is: {}\\n\".format(a_great_sentence))\n",
    "\n",
    "encoded_data, tree = huffman_encoding(a_great_sentence)\n",
    "\n",
    "print (\"The size of the encoded data is: {}\\n\".format(encoded_data))\n",
    "print (\"The content of the encoded data is: {}\\n\".format(encoded_data))\n",
    "\n",
    "decoded_data = huffman_decoding(encoded_data, tree)\n",
    "\n",
    "print (\"The size of the decoded data is: {}\\n\".format(sys.getsizeof(decoded_data)))\n",
    "print (\"The content of the encoded data is: {}\\n\".format(decoded_data))"
   ]
  },
  {
   "cell_type": "markdown",
   "metadata": {},
   "source": [
    "### Problem 4: Active Directory"
   ]
  },
  {
   "cell_type": "markdown",
   "metadata": {},
   "source": [
    "1.Code Design: <br>\n",
    "\n",
    "List is used to store information of groups and users. It also provides straightforward tool to add new information to the list. <br>\n",
    "\n",
    "    \n",
    "2.Efficiancy: <br>\n",
    "\n",
    "Time complexity: <br>\n",
    "O(1) when to add user or group. <br>\n",
    "O(n) because it depends on number of group. and users. <br>\n",
    "\n",
    "Space complexity: depend on number of user and group. <br>"
   ]
  },
  {
   "cell_type": "code",
   "execution_count": 35,
   "metadata": {},
   "outputs": [],
   "source": [
    "class Group(object):\n",
    "    def __init__(self, _name):\n",
    "        self.name = _name\n",
    "        self.groups = []\n",
    "        self.users = []\n",
    "\n",
    "    def add_group(self, group):\n",
    "        self.groups.append(group)\n",
    "\n",
    "    def add_user(self, user):\n",
    "        self.users.append(user)\n",
    "\n",
    "    def get_groups(self):\n",
    "        return self.groups\n",
    "\n",
    "    def get_users(self):\n",
    "        return self.users\n",
    "\n",
    "    def get_name(self):\n",
    "        return self.name"
   ]
  },
  {
   "cell_type": "code",
   "execution_count": 36,
   "metadata": {},
   "outputs": [],
   "source": [
    "parent = Group(\"parent\")\n",
    "child = Group(\"child\")\n",
    "sub_child = Group(\"subchild\")\n",
    "\n",
    "sub_child_user = \"sub_child_user\"\n",
    "sub_child.add_user(sub_child_user)\n",
    "\n",
    "child.add_group(sub_child)\n",
    "parent.add_group(child)"
   ]
  },
  {
   "cell_type": "code",
   "execution_count": 37,
   "metadata": {},
   "outputs": [],
   "source": [
    "def find_group(user, group):\n",
    "\n",
    "    # check if user is in group\n",
    "    if user in group.get_users():\n",
    "        return True\n",
    "    else:\n",
    "        # go to check in sub_group\n",
    "        for sub_group in group.get_groups():\n",
    "            return find_group(user, sub_group)\n",
    "\n",
    "    # return False if user is not found\n",
    "    return False"
   ]
  },
  {
   "cell_type": "code",
   "execution_count": 38,
   "metadata": {},
   "outputs": [],
   "source": [
    "def is_user_in_group(user, group):\n",
    "    \"\"\"\n",
    "    Return True if user is in the group, False otherwise.\n",
    "\n",
    "    Args:\n",
    "      user(str): user name/id\n",
    "      group(class:Group): group to check user membership against\n",
    "    \"\"\"\n",
    "\n",
    "    return find_group(user, group)"
   ]
  },
  {
   "cell_type": "code",
   "execution_count": 39,
   "metadata": {},
   "outputs": [
    {
     "data": {
      "text/plain": [
       "True"
      ]
     },
     "execution_count": 39,
     "metadata": {},
     "output_type": "execute_result"
    }
   ],
   "source": [
    "# Test 1\n",
    "is_user_in_group(\"sub_child_user\", sub_child)"
   ]
  },
  {
   "cell_type": "code",
   "execution_count": 40,
   "metadata": {},
   "outputs": [
    {
     "data": {
      "text/plain": [
       "True"
      ]
     },
     "execution_count": 40,
     "metadata": {},
     "output_type": "execute_result"
    }
   ],
   "source": [
    "# Test 2\n",
    "is_user_in_group(\"sub_child_user\", child)"
   ]
  },
  {
   "cell_type": "code",
   "execution_count": 41,
   "metadata": {},
   "outputs": [
    {
     "data": {
      "text/plain": [
       "True"
      ]
     },
     "execution_count": 41,
     "metadata": {},
     "output_type": "execute_result"
    }
   ],
   "source": [
    "# Test 3\n",
    "is_user_in_group(\"sub_child_user\", parent)"
   ]
  },
  {
   "cell_type": "code",
   "execution_count": 42,
   "metadata": {},
   "outputs": [
    {
     "data": {
      "text/plain": [
       "False"
      ]
     },
     "execution_count": 42,
     "metadata": {},
     "output_type": "execute_result"
    }
   ],
   "source": [
    "# Test 4\n",
    "is_user_in_group(\"aaa\", parent)"
   ]
  },
  {
   "cell_type": "code",
   "execution_count": 43,
   "metadata": {},
   "outputs": [
    {
     "data": {
      "text/plain": [
       "False"
      ]
     },
     "execution_count": 43,
     "metadata": {},
     "output_type": "execute_result"
    }
   ],
   "source": [
    "# Test 5\n",
    "is_user_in_group(\"\", parent)"
   ]
  },
  {
   "cell_type": "code",
   "execution_count": 44,
   "metadata": {},
   "outputs": [
    {
     "data": {
      "text/plain": [
       "False"
      ]
     },
     "execution_count": 44,
     "metadata": {},
     "output_type": "execute_result"
    }
   ],
   "source": [
    "# Test 6\n",
    "is_user_in_group(None, parent)"
   ]
  },
  {
   "cell_type": "code",
   "execution_count": 45,
   "metadata": {},
   "outputs": [
    {
     "data": {
      "text/plain": [
       "True"
      ]
     },
     "execution_count": 45,
     "metadata": {},
     "output_type": "execute_result"
    }
   ],
   "source": [
    "# Test 7\n",
    "child.add_user(\"first_user\")\n",
    "is_user_in_group(\"first_user\", parent)"
   ]
  },
  {
   "cell_type": "markdown",
   "metadata": {},
   "source": [
    "### Problem 5: Blockchain"
   ]
  },
  {
   "cell_type": "markdown",
   "metadata": {},
   "source": [
    "1.Code Design: <br>\n",
    "\n",
    "Linked list is chosen to implement to build blockchain. It provides ability to store information of previous node which is linked. <br>\n",
    "\n",
    "    \n",
    "2.Efficiancy: <br>\n",
    "\n",
    "Time complexity: O(1) when to add new block. <br>\n",
    "Space complexity: depend on number of block. <br>"
   ]
  },
  {
   "cell_type": "code",
   "execution_count": 46,
   "metadata": {},
   "outputs": [],
   "source": [
    "import hashlib\n",
    "import datetime"
   ]
  },
  {
   "cell_type": "code",
   "execution_count": 47,
   "metadata": {},
   "outputs": [],
   "source": [
    "class Block:\n",
    "\n",
    "    def __init__(self, timestamp, data, previous_hash):\n",
    "        self.timestamp = timestamp\n",
    "        self.data = data\n",
    "        self.previous_hash = previous_hash\n",
    "        self.hash = self.calc_hash(data)\n",
    "        self.next = None\n",
    "\n",
    "    def calc_hash(self, hash_str):\n",
    "        sha = hashlib.sha256()\n",
    "        sha.update(hash_str.encode('utf-8'))\n",
    "\n",
    "        return sha.hexdigest()"
   ]
  },
  {
   "cell_type": "code",
   "execution_count": 48,
   "metadata": {},
   "outputs": [],
   "source": [
    "class Blockchain:\n",
    "\n",
    "    def __init__(self):\n",
    "        self.head = None\n",
    "\n",
    "    def add(self, data):\n",
    "\n",
    "        # To check that data needs to be string\n",
    "        if not isinstance(data, str):\n",
    "            raise Exception(\"input data must be string\")\n",
    "\n",
    "        # Generate head block if it does not exist.\n",
    "        if self.head is None:\n",
    "            block = Block(datetime.datetime.utcnow(), data, None)\n",
    "            self.head = block\n",
    "            return\n",
    "\n",
    "        block = self.head\n",
    "\n",
    "        # Loop until reach the final block\n",
    "        while block.next:\n",
    "            block = block.next\n",
    "\n",
    "        # Add new block next to the last block\n",
    "        block.next = Block(datetime.datetime.utcnow(), data, block.hash)"
   ]
  },
  {
   "cell_type": "code",
   "execution_count": 49,
   "metadata": {},
   "outputs": [],
   "source": [
    "block_chain = Blockchain()\n",
    "block_chain.add(\"transformer\")\n",
    "block_chain.add(\"bert\")\n",
    "block_chain.add(\"gpt4\")"
   ]
  },
  {
   "cell_type": "code",
   "execution_count": 50,
   "metadata": {},
   "outputs": [
    {
     "name": "stdout",
     "output_type": "stream",
     "text": [
      "block:  transformer\n",
      "hash :  361b904b27614818f00b146a39f6841899d55468345f5e8c842b8cfa58f3bdd1\n",
      "previous hash :  None\n"
     ]
    }
   ],
   "source": [
    "# Test 1 First block\n",
    "\n",
    "print('block: ', block_chain.head.data)\n",
    "print('hash : ', block_chain.head.hash)\n",
    "print('previous hash : ', block_chain.head.previous_hash)"
   ]
  },
  {
   "cell_type": "code",
   "execution_count": 51,
   "metadata": {},
   "outputs": [
    {
     "name": "stdout",
     "output_type": "stream",
     "text": [
      "block:  bert\n",
      "hash :  32987c4b7a9fb90e729425fc63e7bb81ce2cb1f80140ddeddc968aa79a34e8f8\n",
      "previous hash :  361b904b27614818f00b146a39f6841899d55468345f5e8c842b8cfa58f3bdd1\n"
     ]
    }
   ],
   "source": [
    "# Test 2 Second block\n",
    "\n",
    "print('block: ', block_chain.head.next.data)\n",
    "print('hash : ', block_chain.head.next.hash)\n",
    "print('previous hash : ', block_chain.head.next.previous_hash)"
   ]
  },
  {
   "cell_type": "code",
   "execution_count": 52,
   "metadata": {},
   "outputs": [
    {
     "name": "stdout",
     "output_type": "stream",
     "text": [
      "block:  gpt4\n",
      "hash :  e408ee3d83092ec7f7418c8430df349d62d43b57195888fb7609daf4ff22b368\n",
      "previous hash :  32987c4b7a9fb90e729425fc63e7bb81ce2cb1f80140ddeddc968aa79a34e8f8\n"
     ]
    }
   ],
   "source": [
    "# Test 3 Third block\n",
    "\n",
    "print('block: ', block_chain.head.next.next.data)\n",
    "print('hash : ', block_chain.head.next.next.hash)\n",
    "print('previous hash : ', block_chain.head.next.next.previous_hash)"
   ]
  },
  {
   "cell_type": "code",
   "execution_count": 53,
   "metadata": {},
   "outputs": [
    {
     "ename": "Exception",
     "evalue": "input data must be string",
     "output_type": "error",
     "traceback": [
      "\u001b[0;31m---------------------------------------------------------------------------\u001b[0m",
      "\u001b[0;31mException\u001b[0m                                 Traceback (most recent call last)",
      "\u001b[0;32m<ipython-input-53-382624a75187>\u001b[0m in \u001b[0;36m<module>\u001b[0;34m()\u001b[0m\n\u001b[1;32m      1\u001b[0m \u001b[0;31m# Test 4 abnormal input\u001b[0m\u001b[0;34m\u001b[0m\u001b[0;34m\u001b[0m\u001b[0m\n\u001b[0;32m----> 2\u001b[0;31m \u001b[0mblock_chain\u001b[0m\u001b[0;34m.\u001b[0m\u001b[0madd\u001b[0m\u001b[0;34m(\u001b[0m\u001b[0;36m11\u001b[0m\u001b[0;34m)\u001b[0m\u001b[0;34m\u001b[0m\u001b[0m\n\u001b[0m",
      "\u001b[0;32m<ipython-input-48-d5c5652a9b13>\u001b[0m in \u001b[0;36madd\u001b[0;34m(self, data)\u001b[0m\n\u001b[1;32m      8\u001b[0m         \u001b[0;31m# To check that data needs to be string\u001b[0m\u001b[0;34m\u001b[0m\u001b[0;34m\u001b[0m\u001b[0m\n\u001b[1;32m      9\u001b[0m         \u001b[0;32mif\u001b[0m \u001b[0;32mnot\u001b[0m \u001b[0misinstance\u001b[0m\u001b[0;34m(\u001b[0m\u001b[0mdata\u001b[0m\u001b[0;34m,\u001b[0m \u001b[0mstr\u001b[0m\u001b[0;34m)\u001b[0m\u001b[0;34m:\u001b[0m\u001b[0;34m\u001b[0m\u001b[0m\n\u001b[0;32m---> 10\u001b[0;31m             \u001b[0;32mraise\u001b[0m \u001b[0mException\u001b[0m\u001b[0;34m(\u001b[0m\u001b[0;34m\"input data must be string\"\u001b[0m\u001b[0;34m)\u001b[0m\u001b[0;34m\u001b[0m\u001b[0m\n\u001b[0m\u001b[1;32m     11\u001b[0m \u001b[0;34m\u001b[0m\u001b[0m\n\u001b[1;32m     12\u001b[0m         \u001b[0;31m# Generate head block if it does not exist.\u001b[0m\u001b[0;34m\u001b[0m\u001b[0;34m\u001b[0m\u001b[0m\n",
      "\u001b[0;31mException\u001b[0m: input data must be string"
     ]
    }
   ],
   "source": [
    "# Test 4 abnormal input\n",
    "block_chain.add(11) #it is expected to raise error."
   ]
  },
  {
   "cell_type": "code",
   "execution_count": 54,
   "metadata": {},
   "outputs": [
    {
     "ename": "Exception",
     "evalue": "input data must be string",
     "output_type": "error",
     "traceback": [
      "\u001b[0;31m---------------------------------------------------------------------------\u001b[0m",
      "\u001b[0;31mException\u001b[0m                                 Traceback (most recent call last)",
      "\u001b[0;32m<ipython-input-54-b0802579fe31>\u001b[0m in \u001b[0;36m<module>\u001b[0;34m()\u001b[0m\n\u001b[1;32m      1\u001b[0m \u001b[0;31m# Test 5 abnormal input\u001b[0m\u001b[0;34m\u001b[0m\u001b[0;34m\u001b[0m\u001b[0m\n\u001b[0;32m----> 2\u001b[0;31m \u001b[0mblock_chain\u001b[0m\u001b[0;34m.\u001b[0m\u001b[0madd\u001b[0m\u001b[0;34m(\u001b[0m\u001b[0;32mNone\u001b[0m\u001b[0;34m)\u001b[0m\u001b[0;34m\u001b[0m\u001b[0m\n\u001b[0m",
      "\u001b[0;32m<ipython-input-48-d5c5652a9b13>\u001b[0m in \u001b[0;36madd\u001b[0;34m(self, data)\u001b[0m\n\u001b[1;32m      8\u001b[0m         \u001b[0;31m# To check that data needs to be string\u001b[0m\u001b[0;34m\u001b[0m\u001b[0;34m\u001b[0m\u001b[0m\n\u001b[1;32m      9\u001b[0m         \u001b[0;32mif\u001b[0m \u001b[0;32mnot\u001b[0m \u001b[0misinstance\u001b[0m\u001b[0;34m(\u001b[0m\u001b[0mdata\u001b[0m\u001b[0;34m,\u001b[0m \u001b[0mstr\u001b[0m\u001b[0;34m)\u001b[0m\u001b[0;34m:\u001b[0m\u001b[0;34m\u001b[0m\u001b[0m\n\u001b[0;32m---> 10\u001b[0;31m             \u001b[0;32mraise\u001b[0m \u001b[0mException\u001b[0m\u001b[0;34m(\u001b[0m\u001b[0;34m\"input data must be string\"\u001b[0m\u001b[0;34m)\u001b[0m\u001b[0;34m\u001b[0m\u001b[0m\n\u001b[0m\u001b[1;32m     11\u001b[0m \u001b[0;34m\u001b[0m\u001b[0m\n\u001b[1;32m     12\u001b[0m         \u001b[0;31m# Generate head block if it does not exist.\u001b[0m\u001b[0;34m\u001b[0m\u001b[0;34m\u001b[0m\u001b[0m\n",
      "\u001b[0;31mException\u001b[0m: input data must be string"
     ]
    }
   ],
   "source": [
    "# Test 5 abnormal input\n",
    "block_chain.add(None) #it is expected to raise error."
   ]
  },
  {
   "cell_type": "markdown",
   "metadata": {},
   "source": [
    "### Problem 6: Union and Intersection"
   ]
  },
  {
   "cell_type": "markdown",
   "metadata": {},
   "source": [
    "1.Code Design: <br>\n",
    "\n",
    "Python List is selected to implement as it has an ability to union and intersect data.<br>\n",
    "List of Node is firstly converted to List. Then do union or intersect. Finally, it is converted back to Node list.\n",
    "\n",
    "    \n",
    "2.Efficiancy: <br>\n",
    "\n",
    "Time complexity: \n",
    "(1) collect_node(llist) is O(n) - it goes though list of Node. <br>\n",
    "(2) union is O(n) + O(n log n). O(n log n) is from union, O(n) is from loop ton convert from list to Node list. <br>\n",
    "(3) intersection is O(n) + O(n log n). O(n log n) is from intersect, O(n) is from loop ton convert from list to Node list. <br>\n",
    "\n",
    "Space complexity: depend on number of node. <br>"
   ]
  },
  {
   "cell_type": "code",
   "execution_count": 55,
   "metadata": {},
   "outputs": [],
   "source": [
    "class Node:\n",
    "    def __init__(self, value):\n",
    "        # Runtime analysis: O(1)\n",
    "        self.value = value\n",
    "        self.next = None\n",
    "\n",
    "    def __repr__(self):\n",
    "        # Runtime analysis: O(1)\n",
    "        return str(self.value)\n",
    "\n",
    "\n",
    "class LinkedList:\n",
    "    def __init__(self):\n",
    "        # Runtime analysis: O(1)\n",
    "        self.head = None\n",
    "\n",
    "    def __str__(self):\n",
    "        # Runtime analysis: O(n) from while loop\n",
    "        cur_head = self.head\n",
    "        out_string = \"\"\n",
    "        while cur_head:\n",
    "            out_string += str(cur_head.value) + \" -> \"\n",
    "            cur_head = cur_head.next\n",
    "        return out_string\n",
    "\n",
    "\n",
    "    def append(self, value):\n",
    "        # Runtime analysis: O(n) from while loop\n",
    "\n",
    "        if self.head is None:\n",
    "            self.head = Node(value)\n",
    "            return\n",
    "\n",
    "        node = self.head\n",
    "        while node.next:\n",
    "            node = node.next\n",
    "\n",
    "        node.next = Node(value)\n",
    "\n",
    "    def size(self):\n",
    "        # Runtime analysis: O(n) from while loop\n",
    "        size = 0\n",
    "        node = self.head\n",
    "        while node:\n",
    "            size += 1\n",
    "            node = node.next\n",
    "\n",
    "        return size\n",
    "\n"
   ]
  },
  {
   "cell_type": "code",
   "execution_count": 56,
   "metadata": {},
   "outputs": [],
   "source": [
    "def collect_node(llist):\n",
    "    # Runtime analysis: O(n) from for loop\n",
    "\n",
    "    llist_list = []\n",
    "\n",
    "    for i in range(llist.size()):\n",
    "        if i == 0:\n",
    "            llist_list.append(llist.head.value)\n",
    "            llist = llist.head\n",
    "        else:\n",
    "            llist_list.append(llist.next.value)\n",
    "            llist = llist.next\n",
    "    return llist_list"
   ]
  },
  {
   "cell_type": "code",
   "execution_count": 57,
   "metadata": {},
   "outputs": [],
   "source": [
    "def union(llist_1, llist_2):\n",
    "\n",
    "    # collect node value and add to list\n",
    "    llist_1_list = collect_node(llist_1)  #O(n)\n",
    "    llist_2_list = collect_node(llist_2)  #O(n)\n",
    "\n",
    "    # combine two list (no mention to remove the duplication)\n",
    "    union_list = sorted(llist_1_list + llist_2_list)  #O(n log n)\n",
    "    union_link = LinkedList()\n",
    "\n",
    "    for i in union_list:  # O(n)\n",
    "        union_link.append(i)\n",
    "\n",
    "    return union_link"
   ]
  },
  {
   "cell_type": "code",
   "execution_count": 58,
   "metadata": {},
   "outputs": [],
   "source": [
    "def intersection(llist_1, llist_2):\n",
    "\n",
    "    # collect node value and add to list\n",
    "    llist_1_list = collect_node(llist_1)  #O(n)\n",
    "    llist_2_list = collect_node(llist_2)  #O(n)\n",
    "\n",
    "    # combine two list (no mention to remove the duplication)\n",
    "    intersection_list = sorted(list(set(llist_1_list).intersection(llist_2_list)))   #O(n log n)\n",
    "    intersection_link = LinkedList()\n",
    "\n",
    "    for i in intersection_list: # O(n)\n",
    "        intersection_link.append(i)\n",
    "\n",
    "    return intersection_link"
   ]
  },
  {
   "cell_type": "code",
   "execution_count": 59,
   "metadata": {},
   "outputs": [
    {
     "name": "stdout",
     "output_type": "stream",
     "text": [
      "1 -> 1 -> 2 -> 3 -> 3 -> 4 -> 4 -> 4 -> 6 -> 6 -> 6 -> 6 -> 9 -> 11 -> 21 -> 21 -> 32 -> 35 -> 65 -> \n",
      "4 -> 6 -> 21 -> \n"
     ]
    }
   ],
   "source": [
    "## Test case 1\n",
    "\n",
    "linked_list_1 = LinkedList()\n",
    "linked_list_2 = LinkedList()\n",
    "\n",
    "element_1 = [3,2,4,35,6,65,6,4,3,21]\n",
    "element_2 = [6,32,4,9,6,1,11,21,1]\n",
    "\n",
    "for i in element_1:\n",
    "    linked_list_1.append(i)\n",
    "\n",
    "for i in element_2:\n",
    "    linked_list_2.append(i)\n",
    "\n",
    "print (union(linked_list_1,linked_list_2))\n",
    "print (intersection(linked_list_1,linked_list_2))"
   ]
  },
  {
   "cell_type": "code",
   "execution_count": 60,
   "metadata": {},
   "outputs": [
    {
     "name": "stdout",
     "output_type": "stream",
     "text": [
      "2 -> 3 -> 3 -> 4 -> 4 -> 6 -> 6 -> 21 -> 35 -> 65 -> \n",
      "\n"
     ]
    }
   ],
   "source": [
    "## Test case 2\n",
    "\n",
    "linked_list_1 = LinkedList()\n",
    "linked_list_2 = LinkedList()\n",
    "\n",
    "element_1 = [3,2,4,35,6,65,6,4,3,21]\n",
    "element_2 = []\n",
    "\n",
    "for i in element_1:\n",
    "    linked_list_1.append(i)\n",
    "\n",
    "for i in element_2:\n",
    "    linked_list_2.append(i)\n",
    "\n",
    "print (union(linked_list_1,linked_list_2))\n",
    "print (intersection(linked_list_1,linked_list_2))"
   ]
  },
  {
   "cell_type": "code",
   "execution_count": 61,
   "metadata": {},
   "outputs": [
    {
     "name": "stdout",
     "output_type": "stream",
     "text": [
      "\n",
      "\n"
     ]
    }
   ],
   "source": [
    "## Test case 3\n",
    "\n",
    "linked_list_1 = LinkedList()\n",
    "linked_list_2 = LinkedList()\n",
    "\n",
    "element_1 = []\n",
    "element_2 = []\n",
    "\n",
    "for i in element_1:\n",
    "    linked_list_1.append(i)\n",
    "\n",
    "for i in element_2:\n",
    "    linked_list_2.append(i)\n",
    "\n",
    "print (union(linked_list_1,linked_list_2))\n",
    "print (intersection(linked_list_1,linked_list_2))"
   ]
  },
  {
   "cell_type": "code",
   "execution_count": null,
   "metadata": {},
   "outputs": [],
   "source": []
  }
 ],
 "metadata": {
  "kernelspec": {
   "display_name": "Python 3",
   "language": "python",
   "name": "python3"
  },
  "language_info": {
   "codemirror_mode": {
    "name": "ipython",
    "version": 3
   },
   "file_extension": ".py",
   "mimetype": "text/x-python",
   "name": "python",
   "nbconvert_exporter": "python",
   "pygments_lexer": "ipython3",
   "version": "3.6.3"
  }
 },
 "nbformat": 4,
 "nbformat_minor": 2
}
